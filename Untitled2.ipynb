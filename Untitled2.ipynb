{
 "cells": [
  {
   "cell_type": "code",
   "execution_count": null,
   "id": "450ab203",
   "metadata": {},
   "outputs": [],
   "source": [
    "# Add Matplotlib inline magic command\n",
    "%matplotlib inline\n",
    "# Dependencies and Setup\n",
    "import matplotlib.pyplot as plt\n",
    "import pandas as pd\n",
    "\n",
    "# File to Load (Remember to change these)\n",
    "player_stats_data_to_load = \"/Users/dhanaprakashdurairaj/Documents/GitHub/Project/NBADatabase/datadavis-nba-salaries/players.csv\"\n",
    "player_salary_data_to_load = \"/Users/dhanaprakashdurairaj/Documents/GitHub/Project/NBADatabase/datadavis-nba-salaries/salaries_1985to2018.csv\"\n",
    "\n",
    "# Read the City and Ride Data\n",
    "player_stats_df = pd.read_csv(player_stats_data_to_load)\n",
    "player_salary_df = pd.read_csv(player_salary_data_to_load)\n",
    "\n"
   ]
  }
 ],
 "metadata": {
  "kernelspec": {
   "display_name": "PythonData",
   "language": "python",
   "name": "pythondata"
  },
  "language_info": {
   "codemirror_mode": {
    "name": "ipython",
    "version": 3
   },
   "file_extension": ".py",
   "mimetype": "text/x-python",
   "name": "python",
   "nbconvert_exporter": "python",
   "pygments_lexer": "ipython3",
   "version": "3.8.5"
  }
 },
 "nbformat": 4,
 "nbformat_minor": 5
}
